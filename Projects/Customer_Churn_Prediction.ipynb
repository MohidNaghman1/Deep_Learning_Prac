{
 "cells": [
  {
   "cell_type": "markdown",
   "metadata": {},
   "source": [
    "# Customer Churn Prediction"
   ]
  },
  {
   "cell_type": "code",
   "execution_count": 1,
   "metadata": {},
   "outputs": [],
   "source": [
    "# import Libraries\n",
    "import pandas as pd\n",
    "import numpy as np  \n",
    "import matplotlib.pyplot as plt\n",
    "import seaborn as sns\n"
   ]
  },
  {
   "cell_type": "code",
   "execution_count": 2,
   "metadata": {},
   "outputs": [
    {
     "data": {
      "text/html": [
       "<div>\n",
       "<style scoped>\n",
       "    .dataframe tbody tr th:only-of-type {\n",
       "        vertical-align: middle;\n",
       "    }\n",
       "\n",
       "    .dataframe tbody tr th {\n",
       "        vertical-align: top;\n",
       "    }\n",
       "\n",
       "    .dataframe thead th {\n",
       "        text-align: right;\n",
       "    }\n",
       "</style>\n",
       "<table border=\"1\" class=\"dataframe\">\n",
       "  <thead>\n",
       "    <tr style=\"text-align: right;\">\n",
       "      <th></th>\n",
       "      <th>RowNumber</th>\n",
       "      <th>CustomerId</th>\n",
       "      <th>Surname</th>\n",
       "      <th>CreditScore</th>\n",
       "      <th>Geography</th>\n",
       "      <th>Gender</th>\n",
       "      <th>Age</th>\n",
       "      <th>Tenure</th>\n",
       "      <th>Balance</th>\n",
       "      <th>NumOfProducts</th>\n",
       "      <th>HasCrCard</th>\n",
       "      <th>IsActiveMember</th>\n",
       "      <th>EstimatedSalary</th>\n",
       "      <th>Exited</th>\n",
       "    </tr>\n",
       "  </thead>\n",
       "  <tbody>\n",
       "    <tr>\n",
       "      <th>0</th>\n",
       "      <td>1</td>\n",
       "      <td>15634602</td>\n",
       "      <td>Hargrave</td>\n",
       "      <td>619</td>\n",
       "      <td>France</td>\n",
       "      <td>Female</td>\n",
       "      <td>42</td>\n",
       "      <td>2</td>\n",
       "      <td>0.00</td>\n",
       "      <td>1</td>\n",
       "      <td>1</td>\n",
       "      <td>1</td>\n",
       "      <td>101348.88</td>\n",
       "      <td>1</td>\n",
       "    </tr>\n",
       "    <tr>\n",
       "      <th>1</th>\n",
       "      <td>2</td>\n",
       "      <td>15647311</td>\n",
       "      <td>Hill</td>\n",
       "      <td>608</td>\n",
       "      <td>Spain</td>\n",
       "      <td>Female</td>\n",
       "      <td>41</td>\n",
       "      <td>1</td>\n",
       "      <td>83807.86</td>\n",
       "      <td>1</td>\n",
       "      <td>0</td>\n",
       "      <td>1</td>\n",
       "      <td>112542.58</td>\n",
       "      <td>0</td>\n",
       "    </tr>\n",
       "    <tr>\n",
       "      <th>2</th>\n",
       "      <td>3</td>\n",
       "      <td>15619304</td>\n",
       "      <td>Onio</td>\n",
       "      <td>502</td>\n",
       "      <td>France</td>\n",
       "      <td>Female</td>\n",
       "      <td>42</td>\n",
       "      <td>8</td>\n",
       "      <td>159660.80</td>\n",
       "      <td>3</td>\n",
       "      <td>1</td>\n",
       "      <td>0</td>\n",
       "      <td>113931.57</td>\n",
       "      <td>1</td>\n",
       "    </tr>\n",
       "    <tr>\n",
       "      <th>3</th>\n",
       "      <td>4</td>\n",
       "      <td>15701354</td>\n",
       "      <td>Boni</td>\n",
       "      <td>699</td>\n",
       "      <td>France</td>\n",
       "      <td>Female</td>\n",
       "      <td>39</td>\n",
       "      <td>1</td>\n",
       "      <td>0.00</td>\n",
       "      <td>2</td>\n",
       "      <td>0</td>\n",
       "      <td>0</td>\n",
       "      <td>93826.63</td>\n",
       "      <td>0</td>\n",
       "    </tr>\n",
       "    <tr>\n",
       "      <th>4</th>\n",
       "      <td>5</td>\n",
       "      <td>15737888</td>\n",
       "      <td>Mitchell</td>\n",
       "      <td>850</td>\n",
       "      <td>Spain</td>\n",
       "      <td>Female</td>\n",
       "      <td>43</td>\n",
       "      <td>2</td>\n",
       "      <td>125510.82</td>\n",
       "      <td>1</td>\n",
       "      <td>1</td>\n",
       "      <td>1</td>\n",
       "      <td>79084.10</td>\n",
       "      <td>0</td>\n",
       "    </tr>\n",
       "  </tbody>\n",
       "</table>\n",
       "</div>"
      ],
      "text/plain": [
       "   RowNumber  CustomerId   Surname  CreditScore Geography  Gender  Age  \\\n",
       "0          1    15634602  Hargrave          619    France  Female   42   \n",
       "1          2    15647311      Hill          608     Spain  Female   41   \n",
       "2          3    15619304      Onio          502    France  Female   42   \n",
       "3          4    15701354      Boni          699    France  Female   39   \n",
       "4          5    15737888  Mitchell          850     Spain  Female   43   \n",
       "\n",
       "   Tenure    Balance  NumOfProducts  HasCrCard  IsActiveMember  \\\n",
       "0       2       0.00              1          1               1   \n",
       "1       1   83807.86              1          0               1   \n",
       "2       8  159660.80              3          1               0   \n",
       "3       1       0.00              2          0               0   \n",
       "4       2  125510.82              1          1               1   \n",
       "\n",
       "   EstimatedSalary  Exited  \n",
       "0        101348.88       1  \n",
       "1        112542.58       0  \n",
       "2        113931.57       1  \n",
       "3         93826.63       0  \n",
       "4         79084.10       0  "
      ]
     },
     "execution_count": 2,
     "metadata": {},
     "output_type": "execute_result"
    }
   ],
   "source": [
    "# load the data\n",
    "df = pd.read_csv('Dataset/Churn_Modelling.csv')\n",
    "df.head()"
   ]
  },
  {
   "cell_type": "code",
   "execution_count": 3,
   "metadata": {},
   "outputs": [
    {
     "data": {
      "text/plain": [
       "(10000, 14)"
      ]
     },
     "execution_count": 3,
     "metadata": {},
     "output_type": "execute_result"
    }
   ],
   "source": [
    "df.shape"
   ]
  },
  {
   "cell_type": "code",
   "execution_count": 4,
   "metadata": {},
   "outputs": [
    {
     "name": "stdout",
     "output_type": "stream",
     "text": [
      "<class 'pandas.core.frame.DataFrame'>\n",
      "RangeIndex: 10000 entries, 0 to 9999\n",
      "Data columns (total 14 columns):\n",
      " #   Column           Non-Null Count  Dtype  \n",
      "---  ------           --------------  -----  \n",
      " 0   RowNumber        10000 non-null  int64  \n",
      " 1   CustomerId       10000 non-null  int64  \n",
      " 2   Surname          10000 non-null  object \n",
      " 3   CreditScore      10000 non-null  int64  \n",
      " 4   Geography        10000 non-null  object \n",
      " 5   Gender           10000 non-null  object \n",
      " 6   Age              10000 non-null  int64  \n",
      " 7   Tenure           10000 non-null  int64  \n",
      " 8   Balance          10000 non-null  float64\n",
      " 9   NumOfProducts    10000 non-null  int64  \n",
      " 10  HasCrCard        10000 non-null  int64  \n",
      " 11  IsActiveMember   10000 non-null  int64  \n",
      " 12  EstimatedSalary  10000 non-null  float64\n",
      " 13  Exited           10000 non-null  int64  \n",
      "dtypes: float64(2), int64(9), object(3)\n",
      "memory usage: 1.1+ MB\n"
     ]
    }
   ],
   "source": [
    "df.info()"
   ]
  },
  {
   "cell_type": "code",
   "execution_count": 5,
   "metadata": {},
   "outputs": [
    {
     "data": {
      "text/plain": [
       "0"
      ]
     },
     "execution_count": 5,
     "metadata": {},
     "output_type": "execute_result"
    }
   ],
   "source": [
    "df.duplicated().sum()"
   ]
  },
  {
   "cell_type": "code",
   "execution_count": 6,
   "metadata": {},
   "outputs": [
    {
     "data": {
      "text/plain": [
       "Exited\n",
       "0    7963\n",
       "1    2037\n",
       "Name: count, dtype: int64"
      ]
     },
     "execution_count": 6,
     "metadata": {},
     "output_type": "execute_result"
    }
   ],
   "source": [
    "df['Exited'].value_counts()"
   ]
  },
  {
   "cell_type": "code",
   "execution_count": 7,
   "metadata": {},
   "outputs": [
    {
     "data": {
      "text/plain": [
       "Geography\n",
       "France     5014\n",
       "Germany    2509\n",
       "Spain      2477\n",
       "Name: count, dtype: int64"
      ]
     },
     "execution_count": 7,
     "metadata": {},
     "output_type": "execute_result"
    }
   ],
   "source": [
    "df['Geography'].value_counts()"
   ]
  },
  {
   "cell_type": "code",
   "execution_count": 8,
   "metadata": {},
   "outputs": [
    {
     "data": {
      "text/plain": [
       "Gender\n",
       "Male      5457\n",
       "Female    4543\n",
       "Name: count, dtype: int64"
      ]
     },
     "execution_count": 8,
     "metadata": {},
     "output_type": "execute_result"
    }
   ],
   "source": [
    "df['Gender'].value_counts()"
   ]
  },
  {
   "cell_type": "code",
   "execution_count": 9,
   "metadata": {},
   "outputs": [],
   "source": [
    "df.drop(columns=['RowNumber', 'CustomerId', 'Surname'], inplace=True)"
   ]
  },
  {
   "cell_type": "code",
   "execution_count": 10,
   "metadata": {},
   "outputs": [
    {
     "data": {
      "text/html": [
       "<div>\n",
       "<style scoped>\n",
       "    .dataframe tbody tr th:only-of-type {\n",
       "        vertical-align: middle;\n",
       "    }\n",
       "\n",
       "    .dataframe tbody tr th {\n",
       "        vertical-align: top;\n",
       "    }\n",
       "\n",
       "    .dataframe thead th {\n",
       "        text-align: right;\n",
       "    }\n",
       "</style>\n",
       "<table border=\"1\" class=\"dataframe\">\n",
       "  <thead>\n",
       "    <tr style=\"text-align: right;\">\n",
       "      <th></th>\n",
       "      <th>CreditScore</th>\n",
       "      <th>Geography</th>\n",
       "      <th>Gender</th>\n",
       "      <th>Age</th>\n",
       "      <th>Tenure</th>\n",
       "      <th>Balance</th>\n",
       "      <th>NumOfProducts</th>\n",
       "      <th>HasCrCard</th>\n",
       "      <th>IsActiveMember</th>\n",
       "      <th>EstimatedSalary</th>\n",
       "      <th>Exited</th>\n",
       "    </tr>\n",
       "  </thead>\n",
       "  <tbody>\n",
       "    <tr>\n",
       "      <th>0</th>\n",
       "      <td>619</td>\n",
       "      <td>France</td>\n",
       "      <td>Female</td>\n",
       "      <td>42</td>\n",
       "      <td>2</td>\n",
       "      <td>0.00</td>\n",
       "      <td>1</td>\n",
       "      <td>1</td>\n",
       "      <td>1</td>\n",
       "      <td>101348.88</td>\n",
       "      <td>1</td>\n",
       "    </tr>\n",
       "    <tr>\n",
       "      <th>1</th>\n",
       "      <td>608</td>\n",
       "      <td>Spain</td>\n",
       "      <td>Female</td>\n",
       "      <td>41</td>\n",
       "      <td>1</td>\n",
       "      <td>83807.86</td>\n",
       "      <td>1</td>\n",
       "      <td>0</td>\n",
       "      <td>1</td>\n",
       "      <td>112542.58</td>\n",
       "      <td>0</td>\n",
       "    </tr>\n",
       "    <tr>\n",
       "      <th>2</th>\n",
       "      <td>502</td>\n",
       "      <td>France</td>\n",
       "      <td>Female</td>\n",
       "      <td>42</td>\n",
       "      <td>8</td>\n",
       "      <td>159660.80</td>\n",
       "      <td>3</td>\n",
       "      <td>1</td>\n",
       "      <td>0</td>\n",
       "      <td>113931.57</td>\n",
       "      <td>1</td>\n",
       "    </tr>\n",
       "    <tr>\n",
       "      <th>3</th>\n",
       "      <td>699</td>\n",
       "      <td>France</td>\n",
       "      <td>Female</td>\n",
       "      <td>39</td>\n",
       "      <td>1</td>\n",
       "      <td>0.00</td>\n",
       "      <td>2</td>\n",
       "      <td>0</td>\n",
       "      <td>0</td>\n",
       "      <td>93826.63</td>\n",
       "      <td>0</td>\n",
       "    </tr>\n",
       "    <tr>\n",
       "      <th>4</th>\n",
       "      <td>850</td>\n",
       "      <td>Spain</td>\n",
       "      <td>Female</td>\n",
       "      <td>43</td>\n",
       "      <td>2</td>\n",
       "      <td>125510.82</td>\n",
       "      <td>1</td>\n",
       "      <td>1</td>\n",
       "      <td>1</td>\n",
       "      <td>79084.10</td>\n",
       "      <td>0</td>\n",
       "    </tr>\n",
       "  </tbody>\n",
       "</table>\n",
       "</div>"
      ],
      "text/plain": [
       "   CreditScore Geography  Gender  Age  Tenure    Balance  NumOfProducts  \\\n",
       "0          619    France  Female   42       2       0.00              1   \n",
       "1          608     Spain  Female   41       1   83807.86              1   \n",
       "2          502    France  Female   42       8  159660.80              3   \n",
       "3          699    France  Female   39       1       0.00              2   \n",
       "4          850     Spain  Female   43       2  125510.82              1   \n",
       "\n",
       "   HasCrCard  IsActiveMember  EstimatedSalary  Exited  \n",
       "0          1               1        101348.88       1  \n",
       "1          0               1        112542.58       0  \n",
       "2          1               0        113931.57       1  \n",
       "3          0               0         93826.63       0  \n",
       "4          1               1         79084.10       0  "
      ]
     },
     "execution_count": 10,
     "metadata": {},
     "output_type": "execute_result"
    }
   ],
   "source": [
    "df.head()"
   ]
  },
  {
   "cell_type": "code",
   "execution_count": 11,
   "metadata": {},
   "outputs": [],
   "source": [
    "from sklearn.preprocessing import LabelEncoder\n",
    "le = LabelEncoder()\n",
    "df['Geography'] = le.fit_transform(df['Geography'])\n",
    "df['Gender'] = le.fit_transform(df['Gender'])"
   ]
  },
  {
   "cell_type": "code",
   "execution_count": 12,
   "metadata": {},
   "outputs": [
    {
     "data": {
      "text/html": [
       "<div>\n",
       "<style scoped>\n",
       "    .dataframe tbody tr th:only-of-type {\n",
       "        vertical-align: middle;\n",
       "    }\n",
       "\n",
       "    .dataframe tbody tr th {\n",
       "        vertical-align: top;\n",
       "    }\n",
       "\n",
       "    .dataframe thead th {\n",
       "        text-align: right;\n",
       "    }\n",
       "</style>\n",
       "<table border=\"1\" class=\"dataframe\">\n",
       "  <thead>\n",
       "    <tr style=\"text-align: right;\">\n",
       "      <th></th>\n",
       "      <th>CreditScore</th>\n",
       "      <th>Geography</th>\n",
       "      <th>Gender</th>\n",
       "      <th>Age</th>\n",
       "      <th>Tenure</th>\n",
       "      <th>Balance</th>\n",
       "      <th>NumOfProducts</th>\n",
       "      <th>HasCrCard</th>\n",
       "      <th>IsActiveMember</th>\n",
       "      <th>EstimatedSalary</th>\n",
       "      <th>Exited</th>\n",
       "    </tr>\n",
       "  </thead>\n",
       "  <tbody>\n",
       "    <tr>\n",
       "      <th>0</th>\n",
       "      <td>619</td>\n",
       "      <td>0</td>\n",
       "      <td>0</td>\n",
       "      <td>42</td>\n",
       "      <td>2</td>\n",
       "      <td>0.00</td>\n",
       "      <td>1</td>\n",
       "      <td>1</td>\n",
       "      <td>1</td>\n",
       "      <td>101348.88</td>\n",
       "      <td>1</td>\n",
       "    </tr>\n",
       "    <tr>\n",
       "      <th>1</th>\n",
       "      <td>608</td>\n",
       "      <td>2</td>\n",
       "      <td>0</td>\n",
       "      <td>41</td>\n",
       "      <td>1</td>\n",
       "      <td>83807.86</td>\n",
       "      <td>1</td>\n",
       "      <td>0</td>\n",
       "      <td>1</td>\n",
       "      <td>112542.58</td>\n",
       "      <td>0</td>\n",
       "    </tr>\n",
       "    <tr>\n",
       "      <th>2</th>\n",
       "      <td>502</td>\n",
       "      <td>0</td>\n",
       "      <td>0</td>\n",
       "      <td>42</td>\n",
       "      <td>8</td>\n",
       "      <td>159660.80</td>\n",
       "      <td>3</td>\n",
       "      <td>1</td>\n",
       "      <td>0</td>\n",
       "      <td>113931.57</td>\n",
       "      <td>1</td>\n",
       "    </tr>\n",
       "    <tr>\n",
       "      <th>3</th>\n",
       "      <td>699</td>\n",
       "      <td>0</td>\n",
       "      <td>0</td>\n",
       "      <td>39</td>\n",
       "      <td>1</td>\n",
       "      <td>0.00</td>\n",
       "      <td>2</td>\n",
       "      <td>0</td>\n",
       "      <td>0</td>\n",
       "      <td>93826.63</td>\n",
       "      <td>0</td>\n",
       "    </tr>\n",
       "    <tr>\n",
       "      <th>4</th>\n",
       "      <td>850</td>\n",
       "      <td>2</td>\n",
       "      <td>0</td>\n",
       "      <td>43</td>\n",
       "      <td>2</td>\n",
       "      <td>125510.82</td>\n",
       "      <td>1</td>\n",
       "      <td>1</td>\n",
       "      <td>1</td>\n",
       "      <td>79084.10</td>\n",
       "      <td>0</td>\n",
       "    </tr>\n",
       "  </tbody>\n",
       "</table>\n",
       "</div>"
      ],
      "text/plain": [
       "   CreditScore  Geography  Gender  Age  Tenure    Balance  NumOfProducts  \\\n",
       "0          619          0       0   42       2       0.00              1   \n",
       "1          608          2       0   41       1   83807.86              1   \n",
       "2          502          0       0   42       8  159660.80              3   \n",
       "3          699          0       0   39       1       0.00              2   \n",
       "4          850          2       0   43       2  125510.82              1   \n",
       "\n",
       "   HasCrCard  IsActiveMember  EstimatedSalary  Exited  \n",
       "0          1               1        101348.88       1  \n",
       "1          0               1        112542.58       0  \n",
       "2          1               0        113931.57       1  \n",
       "3          0               0         93826.63       0  \n",
       "4          1               1         79084.10       0  "
      ]
     },
     "execution_count": 12,
     "metadata": {},
     "output_type": "execute_result"
    }
   ],
   "source": [
    "df.head()"
   ]
  },
  {
   "cell_type": "code",
   "execution_count": 13,
   "metadata": {},
   "outputs": [],
   "source": [
    "X = df.drop(columns='Exited')\n",
    "y = df['Exited']\n",
    "\n",
    "from sklearn.model_selection import train_test_split\n",
    "X_train, X_test, y_train, y_test = train_test_split(X, y, test_size=0.2, random_state=42)"
   ]
  },
  {
   "cell_type": "code",
   "execution_count": 14,
   "metadata": {},
   "outputs": [],
   "source": [
    "from sklearn.preprocessing import StandardScaler\n",
    "\n",
    "sc = StandardScaler()\n",
    "X_train = sc.fit_transform(X_train)\n",
    "X_test = sc.transform(X_test)\n"
   ]
  },
  {
   "cell_type": "code",
   "execution_count": 15,
   "metadata": {},
   "outputs": [],
   "source": [
    "import tensorflow\n",
    "from tensorflow import keras\n",
    "from tensorflow.keras import Sequential\n",
    "from tensorflow.keras.layers import Dense"
   ]
  },
  {
   "cell_type": "code",
   "execution_count": 37,
   "metadata": {},
   "outputs": [],
   "source": [
    "model = Sequential()\n",
    "model.add(Dense(9, input_dim=10, activation='relu'))\n",
    "model.add(Dense(3, activation='relu'))\n",
    "model.add(Dense(1, activation='sigmoid'))"
   ]
  },
  {
   "cell_type": "code",
   "execution_count": 38,
   "metadata": {},
   "outputs": [
    {
     "name": "stdout",
     "output_type": "stream",
     "text": [
      "Model: \"sequential_2\"\n",
      "_________________________________________________________________\n",
      " Layer (type)                Output Shape              Param #   \n",
      "=================================================================\n",
      " dense_4 (Dense)             (None, 9)                 99        \n",
      "                                                                 \n",
      " dense_5 (Dense)             (None, 3)                 30        \n",
      "                                                                 \n",
      " dense_6 (Dense)             (None, 1)                 4         \n",
      "                                                                 \n",
      "=================================================================\n",
      "Total params: 133 (532.00 Byte)\n",
      "Trainable params: 133 (532.00 Byte)\n",
      "Non-trainable params: 0 (0.00 Byte)\n",
      "_________________________________________________________________\n"
     ]
    }
   ],
   "source": [
    "model.summary()"
   ]
  },
  {
   "cell_type": "code",
   "execution_count": 40,
   "metadata": {},
   "outputs": [],
   "source": [
    "model.compile(loss='binary_crossentropy', optimizer='Adam',metrics=['accuracy'])"
   ]
  },
  {
   "cell_type": "code",
   "execution_count": 29,
   "metadata": {},
   "outputs": [
    {
     "data": {
      "text/plain": [
       "9254    0\n",
       "1561    0\n",
       "1670    1\n",
       "6087    1\n",
       "6669    1\n",
       "       ..\n",
       "5734    0\n",
       "5191    0\n",
       "5390    1\n",
       "860     1\n",
       "7270    0\n",
       "Name: Exited, Length: 8000, dtype: int64"
      ]
     },
     "execution_count": 29,
     "metadata": {},
     "output_type": "execute_result"
    }
   ],
   "source": [
    "y_train"
   ]
  },
  {
   "cell_type": "code",
   "execution_count": 46,
   "metadata": {},
   "outputs": [
    {
     "name": "stdout",
     "output_type": "stream",
     "text": [
      "Epoch 1/100\n",
      "200/200 [==============================] - 1s 4ms/step - loss: 0.3310 - accuracy: 0.8637 - val_loss: 0.3419 - val_accuracy: 0.8525\n",
      "Epoch 2/100\n",
      "200/200 [==============================] - 1s 4ms/step - loss: 0.3304 - accuracy: 0.8656 - val_loss: 0.3421 - val_accuracy: 0.8512\n",
      "Epoch 3/100\n",
      "200/200 [==============================] - 1s 4ms/step - loss: 0.3310 - accuracy: 0.8653 - val_loss: 0.3421 - val_accuracy: 0.8525\n",
      "Epoch 4/100\n",
      "200/200 [==============================] - 1s 3ms/step - loss: 0.3306 - accuracy: 0.8652 - val_loss: 0.3432 - val_accuracy: 0.8519\n",
      "Epoch 5/100\n",
      "200/200 [==============================] - 1s 3ms/step - loss: 0.3305 - accuracy: 0.8670 - val_loss: 0.3419 - val_accuracy: 0.8512\n",
      "Epoch 6/100\n",
      "200/200 [==============================] - 1s 4ms/step - loss: 0.3302 - accuracy: 0.8672 - val_loss: 0.3417 - val_accuracy: 0.8525\n",
      "Epoch 7/100\n",
      "200/200 [==============================] - 1s 4ms/step - loss: 0.3302 - accuracy: 0.8641 - val_loss: 0.3414 - val_accuracy: 0.8525\n",
      "Epoch 8/100\n",
      "200/200 [==============================] - 1s 4ms/step - loss: 0.3301 - accuracy: 0.8661 - val_loss: 0.3421 - val_accuracy: 0.8544\n",
      "Epoch 9/100\n",
      "200/200 [==============================] - 1s 4ms/step - loss: 0.3303 - accuracy: 0.8664 - val_loss: 0.3415 - val_accuracy: 0.8506\n",
      "Epoch 10/100\n",
      "200/200 [==============================] - 1s 4ms/step - loss: 0.3298 - accuracy: 0.8655 - val_loss: 0.3418 - val_accuracy: 0.8537\n",
      "Epoch 11/100\n",
      "200/200 [==============================] - 1s 4ms/step - loss: 0.3304 - accuracy: 0.8666 - val_loss: 0.3405 - val_accuracy: 0.8537\n",
      "Epoch 12/100\n",
      "200/200 [==============================] - 1s 4ms/step - loss: 0.3299 - accuracy: 0.8653 - val_loss: 0.3415 - val_accuracy: 0.8525\n",
      "Epoch 13/100\n",
      "200/200 [==============================] - 1s 3ms/step - loss: 0.3302 - accuracy: 0.8670 - val_loss: 0.3421 - val_accuracy: 0.8537\n",
      "Epoch 14/100\n",
      "200/200 [==============================] - 1s 4ms/step - loss: 0.3296 - accuracy: 0.8672 - val_loss: 0.3412 - val_accuracy: 0.8537\n",
      "Epoch 15/100\n",
      "200/200 [==============================] - 1s 5ms/step - loss: 0.3295 - accuracy: 0.8658 - val_loss: 0.3416 - val_accuracy: 0.8556\n",
      "Epoch 16/100\n",
      "200/200 [==============================] - 1s 4ms/step - loss: 0.3295 - accuracy: 0.8656 - val_loss: 0.3413 - val_accuracy: 0.8512\n",
      "Epoch 17/100\n",
      "200/200 [==============================] - 1s 3ms/step - loss: 0.3293 - accuracy: 0.8653 - val_loss: 0.3415 - val_accuracy: 0.8550\n",
      "Epoch 18/100\n",
      "200/200 [==============================] - 1s 4ms/step - loss: 0.3292 - accuracy: 0.8652 - val_loss: 0.3406 - val_accuracy: 0.8525\n",
      "Epoch 19/100\n",
      "200/200 [==============================] - 1s 4ms/step - loss: 0.3293 - accuracy: 0.8670 - val_loss: 0.3418 - val_accuracy: 0.8544\n",
      "Epoch 20/100\n",
      "200/200 [==============================] - 1s 4ms/step - loss: 0.3292 - accuracy: 0.8655 - val_loss: 0.3406 - val_accuracy: 0.8525\n",
      "Epoch 21/100\n",
      "200/200 [==============================] - 1s 4ms/step - loss: 0.3289 - accuracy: 0.8662 - val_loss: 0.3406 - val_accuracy: 0.8537\n",
      "Epoch 22/100\n",
      "200/200 [==============================] - 1s 4ms/step - loss: 0.3295 - accuracy: 0.8645 - val_loss: 0.3417 - val_accuracy: 0.8544\n",
      "Epoch 23/100\n",
      "200/200 [==============================] - 1s 4ms/step - loss: 0.3288 - accuracy: 0.8637 - val_loss: 0.3413 - val_accuracy: 0.8556\n",
      "Epoch 24/100\n",
      "200/200 [==============================] - 1s 4ms/step - loss: 0.3294 - accuracy: 0.8669 - val_loss: 0.3419 - val_accuracy: 0.8544\n",
      "Epoch 25/100\n",
      "200/200 [==============================] - 1s 4ms/step - loss: 0.3292 - accuracy: 0.8683 - val_loss: 0.3406 - val_accuracy: 0.8550\n",
      "Epoch 26/100\n",
      "200/200 [==============================] - 1s 4ms/step - loss: 0.3293 - accuracy: 0.8650 - val_loss: 0.3411 - val_accuracy: 0.8550\n",
      "Epoch 27/100\n",
      "200/200 [==============================] - 1s 3ms/step - loss: 0.3287 - accuracy: 0.8669 - val_loss: 0.3408 - val_accuracy: 0.8544\n",
      "Epoch 28/100\n",
      "200/200 [==============================] - 1s 3ms/step - loss: 0.3283 - accuracy: 0.8667 - val_loss: 0.3420 - val_accuracy: 0.8544\n",
      "Epoch 29/100\n",
      "200/200 [==============================] - 1s 4ms/step - loss: 0.3289 - accuracy: 0.8659 - val_loss: 0.3412 - val_accuracy: 0.8550\n",
      "Epoch 30/100\n",
      "200/200 [==============================] - 1s 4ms/step - loss: 0.3290 - accuracy: 0.8648 - val_loss: 0.3411 - val_accuracy: 0.8537\n",
      "Epoch 31/100\n",
      "200/200 [==============================] - 1s 4ms/step - loss: 0.3285 - accuracy: 0.8655 - val_loss: 0.3399 - val_accuracy: 0.8544\n",
      "Epoch 32/100\n",
      "200/200 [==============================] - 1s 4ms/step - loss: 0.3285 - accuracy: 0.8667 - val_loss: 0.3412 - val_accuracy: 0.8556\n",
      "Epoch 33/100\n",
      "200/200 [==============================] - 1s 5ms/step - loss: 0.3290 - accuracy: 0.8662 - val_loss: 0.3408 - val_accuracy: 0.8544\n",
      "Epoch 34/100\n",
      "200/200 [==============================] - 1s 4ms/step - loss: 0.3283 - accuracy: 0.8667 - val_loss: 0.3414 - val_accuracy: 0.8550\n",
      "Epoch 35/100\n",
      "200/200 [==============================] - 1s 4ms/step - loss: 0.3285 - accuracy: 0.8681 - val_loss: 0.3420 - val_accuracy: 0.8544\n",
      "Epoch 36/100\n",
      "200/200 [==============================] - 1s 4ms/step - loss: 0.3289 - accuracy: 0.8648 - val_loss: 0.3424 - val_accuracy: 0.8587\n",
      "Epoch 37/100\n",
      "200/200 [==============================] - 1s 4ms/step - loss: 0.3282 - accuracy: 0.8652 - val_loss: 0.3412 - val_accuracy: 0.8556\n",
      "Epoch 38/100\n",
      "200/200 [==============================] - 1s 4ms/step - loss: 0.3285 - accuracy: 0.8673 - val_loss: 0.3410 - val_accuracy: 0.8550\n",
      "Epoch 39/100\n",
      "200/200 [==============================] - 1s 4ms/step - loss: 0.3282 - accuracy: 0.8648 - val_loss: 0.3409 - val_accuracy: 0.8556\n",
      "Epoch 40/100\n",
      "200/200 [==============================] - 1s 4ms/step - loss: 0.3281 - accuracy: 0.8673 - val_loss: 0.3404 - val_accuracy: 0.8550\n",
      "Epoch 41/100\n",
      "200/200 [==============================] - 1s 3ms/step - loss: 0.3282 - accuracy: 0.8658 - val_loss: 0.3408 - val_accuracy: 0.8550\n",
      "Epoch 42/100\n",
      "200/200 [==============================] - 1s 4ms/step - loss: 0.3281 - accuracy: 0.8650 - val_loss: 0.3411 - val_accuracy: 0.8556\n",
      "Epoch 43/100\n",
      "200/200 [==============================] - 1s 4ms/step - loss: 0.3279 - accuracy: 0.8670 - val_loss: 0.3415 - val_accuracy: 0.8519\n",
      "Epoch 44/100\n",
      "200/200 [==============================] - 1s 4ms/step - loss: 0.3281 - accuracy: 0.8639 - val_loss: 0.3412 - val_accuracy: 0.8537\n",
      "Epoch 45/100\n",
      "200/200 [==============================] - 1s 4ms/step - loss: 0.3279 - accuracy: 0.8658 - val_loss: 0.3409 - val_accuracy: 0.8562\n",
      "Epoch 46/100\n",
      "200/200 [==============================] - 1s 4ms/step - loss: 0.3280 - accuracy: 0.8642 - val_loss: 0.3411 - val_accuracy: 0.8531\n",
      "Epoch 47/100\n",
      "200/200 [==============================] - 1s 3ms/step - loss: 0.3283 - accuracy: 0.8656 - val_loss: 0.3411 - val_accuracy: 0.8550\n",
      "Epoch 48/100\n",
      "200/200 [==============================] - 1s 4ms/step - loss: 0.3276 - accuracy: 0.8656 - val_loss: 0.3407 - val_accuracy: 0.8556\n",
      "Epoch 49/100\n",
      "200/200 [==============================] - 1s 4ms/step - loss: 0.3277 - accuracy: 0.8659 - val_loss: 0.3410 - val_accuracy: 0.8575\n",
      "Epoch 50/100\n",
      "200/200 [==============================] - 1s 3ms/step - loss: 0.3279 - accuracy: 0.8655 - val_loss: 0.3424 - val_accuracy: 0.8544\n",
      "Epoch 51/100\n",
      "200/200 [==============================] - 1s 4ms/step - loss: 0.3277 - accuracy: 0.8662 - val_loss: 0.3407 - val_accuracy: 0.8581\n",
      "Epoch 52/100\n",
      "200/200 [==============================] - 1s 4ms/step - loss: 0.3276 - accuracy: 0.8667 - val_loss: 0.3422 - val_accuracy: 0.8594\n",
      "Epoch 53/100\n",
      "200/200 [==============================] - 1s 4ms/step - loss: 0.3278 - accuracy: 0.8655 - val_loss: 0.3407 - val_accuracy: 0.8562\n",
      "Epoch 54/100\n",
      "200/200 [==============================] - 1s 4ms/step - loss: 0.3277 - accuracy: 0.8650 - val_loss: 0.3403 - val_accuracy: 0.8537\n",
      "Epoch 55/100\n",
      "200/200 [==============================] - 1s 4ms/step - loss: 0.3275 - accuracy: 0.8672 - val_loss: 0.3410 - val_accuracy: 0.8550\n",
      "Epoch 56/100\n",
      "200/200 [==============================] - 1s 5ms/step - loss: 0.3278 - accuracy: 0.8675 - val_loss: 0.3400 - val_accuracy: 0.8556\n",
      "Epoch 57/100\n",
      "200/200 [==============================] - 1s 5ms/step - loss: 0.3275 - accuracy: 0.8681 - val_loss: 0.3407 - val_accuracy: 0.8550\n",
      "Epoch 58/100\n",
      "200/200 [==============================] - 1s 4ms/step - loss: 0.3272 - accuracy: 0.8661 - val_loss: 0.3414 - val_accuracy: 0.8562\n",
      "Epoch 59/100\n",
      "200/200 [==============================] - 1s 5ms/step - loss: 0.3273 - accuracy: 0.8658 - val_loss: 0.3407 - val_accuracy: 0.8550\n",
      "Epoch 60/100\n",
      "200/200 [==============================] - 1s 3ms/step - loss: 0.3274 - accuracy: 0.8648 - val_loss: 0.3408 - val_accuracy: 0.8550\n",
      "Epoch 61/100\n",
      "200/200 [==============================] - 1s 3ms/step - loss: 0.3271 - accuracy: 0.8658 - val_loss: 0.3428 - val_accuracy: 0.8506\n",
      "Epoch 62/100\n",
      "200/200 [==============================] - 1s 3ms/step - loss: 0.3276 - accuracy: 0.8659 - val_loss: 0.3419 - val_accuracy: 0.8531\n",
      "Epoch 63/100\n",
      "200/200 [==============================] - 1s 4ms/step - loss: 0.3274 - accuracy: 0.8656 - val_loss: 0.3414 - val_accuracy: 0.8562\n",
      "Epoch 64/100\n",
      "200/200 [==============================] - 1s 3ms/step - loss: 0.3269 - accuracy: 0.8670 - val_loss: 0.3424 - val_accuracy: 0.8519\n",
      "Epoch 65/100\n",
      "200/200 [==============================] - 1s 4ms/step - loss: 0.3270 - accuracy: 0.8675 - val_loss: 0.3409 - val_accuracy: 0.8544\n",
      "Epoch 66/100\n",
      "200/200 [==============================] - 1s 4ms/step - loss: 0.3270 - accuracy: 0.8662 - val_loss: 0.3416 - val_accuracy: 0.8537\n",
      "Epoch 67/100\n",
      "200/200 [==============================] - 1s 4ms/step - loss: 0.3267 - accuracy: 0.8669 - val_loss: 0.3408 - val_accuracy: 0.8544\n",
      "Epoch 68/100\n",
      "200/200 [==============================] - 1s 4ms/step - loss: 0.3268 - accuracy: 0.8662 - val_loss: 0.3414 - val_accuracy: 0.8569\n",
      "Epoch 69/100\n",
      "200/200 [==============================] - 1s 4ms/step - loss: 0.3269 - accuracy: 0.8661 - val_loss: 0.3409 - val_accuracy: 0.8550\n",
      "Epoch 70/100\n",
      "200/200 [==============================] - 1s 3ms/step - loss: 0.3270 - accuracy: 0.8661 - val_loss: 0.3412 - val_accuracy: 0.8556\n",
      "Epoch 71/100\n",
      "200/200 [==============================] - 1s 4ms/step - loss: 0.3260 - accuracy: 0.8673 - val_loss: 0.3423 - val_accuracy: 0.8537\n",
      "Epoch 72/100\n",
      "200/200 [==============================] - 1s 4ms/step - loss: 0.3269 - accuracy: 0.8661 - val_loss: 0.3416 - val_accuracy: 0.8525\n",
      "Epoch 73/100\n",
      "200/200 [==============================] - 1s 4ms/step - loss: 0.3264 - accuracy: 0.8664 - val_loss: 0.3412 - val_accuracy: 0.8544\n",
      "Epoch 74/100\n",
      "200/200 [==============================] - 1s 4ms/step - loss: 0.3267 - accuracy: 0.8672 - val_loss: 0.3416 - val_accuracy: 0.8531\n",
      "Epoch 75/100\n",
      "200/200 [==============================] - 1s 4ms/step - loss: 0.3267 - accuracy: 0.8658 - val_loss: 0.3405 - val_accuracy: 0.8525\n",
      "Epoch 76/100\n",
      "200/200 [==============================] - 1s 4ms/step - loss: 0.3264 - accuracy: 0.8681 - val_loss: 0.3421 - val_accuracy: 0.8531\n",
      "Epoch 77/100\n",
      "200/200 [==============================] - 1s 3ms/step - loss: 0.3265 - accuracy: 0.8659 - val_loss: 0.3412 - val_accuracy: 0.8506\n",
      "Epoch 78/100\n",
      "200/200 [==============================] - 1s 4ms/step - loss: 0.3262 - accuracy: 0.8675 - val_loss: 0.3407 - val_accuracy: 0.8556\n",
      "Epoch 79/100\n",
      "200/200 [==============================] - 1s 4ms/step - loss: 0.3265 - accuracy: 0.8664 - val_loss: 0.3421 - val_accuracy: 0.8550\n",
      "Epoch 80/100\n",
      "200/200 [==============================] - 1s 3ms/step - loss: 0.3267 - accuracy: 0.8664 - val_loss: 0.3412 - val_accuracy: 0.8519\n",
      "Epoch 81/100\n",
      "200/200 [==============================] - 1s 4ms/step - loss: 0.3265 - accuracy: 0.8661 - val_loss: 0.3409 - val_accuracy: 0.8525\n",
      "Epoch 82/100\n",
      "200/200 [==============================] - 1s 3ms/step - loss: 0.3262 - accuracy: 0.8684 - val_loss: 0.3408 - val_accuracy: 0.8512\n",
      "Epoch 83/100\n",
      "200/200 [==============================] - 1s 4ms/step - loss: 0.3263 - accuracy: 0.8655 - val_loss: 0.3413 - val_accuracy: 0.8562\n",
      "Epoch 84/100\n",
      "200/200 [==============================] - 1s 4ms/step - loss: 0.3265 - accuracy: 0.8672 - val_loss: 0.3415 - val_accuracy: 0.8537\n",
      "Epoch 85/100\n",
      "200/200 [==============================] - 1s 4ms/step - loss: 0.3262 - accuracy: 0.8650 - val_loss: 0.3424 - val_accuracy: 0.8525\n",
      "Epoch 86/100\n",
      "200/200 [==============================] - 1s 4ms/step - loss: 0.3264 - accuracy: 0.8667 - val_loss: 0.3428 - val_accuracy: 0.8562\n",
      "Epoch 87/100\n",
      "200/200 [==============================] - 1s 4ms/step - loss: 0.3263 - accuracy: 0.8672 - val_loss: 0.3410 - val_accuracy: 0.8550\n",
      "Epoch 88/100\n",
      "200/200 [==============================] - 1s 4ms/step - loss: 0.3257 - accuracy: 0.8661 - val_loss: 0.3418 - val_accuracy: 0.8587\n",
      "Epoch 89/100\n",
      "200/200 [==============================] - 1s 4ms/step - loss: 0.3259 - accuracy: 0.8673 - val_loss: 0.3411 - val_accuracy: 0.8531\n",
      "Epoch 90/100\n",
      "200/200 [==============================] - 1s 4ms/step - loss: 0.3262 - accuracy: 0.8659 - val_loss: 0.3410 - val_accuracy: 0.8525\n",
      "Epoch 91/100\n",
      "200/200 [==============================] - 1s 4ms/step - loss: 0.3258 - accuracy: 0.8659 - val_loss: 0.3409 - val_accuracy: 0.8500\n",
      "Epoch 92/100\n",
      "200/200 [==============================] - 1s 4ms/step - loss: 0.3261 - accuracy: 0.8661 - val_loss: 0.3442 - val_accuracy: 0.8506\n",
      "Epoch 93/100\n",
      "200/200 [==============================] - 1s 4ms/step - loss: 0.3260 - accuracy: 0.8678 - val_loss: 0.3407 - val_accuracy: 0.8537\n",
      "Epoch 94/100\n",
      "200/200 [==============================] - 1s 4ms/step - loss: 0.3259 - accuracy: 0.8669 - val_loss: 0.3403 - val_accuracy: 0.8544\n",
      "Epoch 95/100\n",
      "200/200 [==============================] - 1s 4ms/step - loss: 0.3260 - accuracy: 0.8664 - val_loss: 0.3402 - val_accuracy: 0.8531\n",
      "Epoch 96/100\n",
      "200/200 [==============================] - 1s 4ms/step - loss: 0.3256 - accuracy: 0.8666 - val_loss: 0.3418 - val_accuracy: 0.8544\n",
      "Epoch 97/100\n",
      "200/200 [==============================] - 1s 4ms/step - loss: 0.3259 - accuracy: 0.8659 - val_loss: 0.3420 - val_accuracy: 0.8544\n",
      "Epoch 98/100\n",
      "200/200 [==============================] - 1s 4ms/step - loss: 0.3256 - accuracy: 0.8689 - val_loss: 0.3423 - val_accuracy: 0.8537\n",
      "Epoch 99/100\n",
      "200/200 [==============================] - 1s 3ms/step - loss: 0.3257 - accuracy: 0.8666 - val_loss: 0.3416 - val_accuracy: 0.8537\n",
      "Epoch 100/100\n",
      "200/200 [==============================] - 1s 4ms/step - loss: 0.3260 - accuracy: 0.8664 - val_loss: 0.3402 - val_accuracy: 0.8550\n"
     ]
    }
   ],
   "source": [
    "history = model.fit(X_train, y_train, epochs=100,validation_split=0.2)"
   ]
  },
  {
   "cell_type": "code",
   "execution_count": 42,
   "metadata": {},
   "outputs": [
    {
     "data": {
      "text/plain": [
       "[array([[ 6.31476790e-02,  2.05598902e-02,  1.74193189e-01,\n",
       "          9.74298939e-02,  3.31696533e-02, -1.55507410e-02,\n",
       "          1.31531116e-02,  7.09754974e-02,  2.55972803e-01],\n",
       "        [ 7.54501939e-01, -5.71368262e-02, -5.96742570e-01,\n",
       "         -1.48026153e-01, -1.11240251e-02,  9.38303694e-02,\n",
       "         -1.40645448e-02,  6.42949343e-01, -2.67023534e-01],\n",
       "        [ 1.40568644e-01, -6.20423369e-02,  3.61519009e-02,\n",
       "          7.19255432e-02, -1.37109175e-01, -2.43199262e-04,\n",
       "          6.52201697e-02,  6.38329014e-02, -3.73237878e-01],\n",
       "        [ 9.99381095e-02, -2.46946692e-01, -6.74777389e-01,\n",
       "          5.26644051e-01, -9.58635584e-02, -7.96155930e-01,\n",
       "         -1.25322104e+00, -3.41170728e-02, -4.89026099e-01],\n",
       "        [-8.95186141e-02, -3.59778069e-02, -7.62380064e-02,\n",
       "          1.68944940e-01, -1.55324861e-03,  2.67020613e-02,\n",
       "         -3.07074916e-02,  3.31439078e-02,  3.28737676e-01],\n",
       "        [ 9.23857838e-02, -2.30091944e-01, -1.09889461e-02,\n",
       "         -3.70112956e-01,  8.91154632e-02, -2.04117186e-02,\n",
       "          3.37299198e-01, -3.56330276e-01, -5.80384023e-02],\n",
       "        [-1.09612659e-01, -1.34822011e+00,  1.37854159e-01,\n",
       "         -1.07170776e-01,  1.17457843e+00,  6.23374619e-03,\n",
       "          3.00279588e-01, -1.09362996e+00, -1.53352201e-01],\n",
       "        [ 3.15129496e-02,  1.20227195e-01, -1.14696622e-01,\n",
       "          2.46469468e-01,  1.10614873e-01,  1.87212024e-02,\n",
       "         -1.54309466e-01,  1.41879665e-02,  5.42245686e-01],\n",
       "        [ 4.70447749e-01, -4.69590276e-01, -2.45327652e-01,\n",
       "          5.34435689e-01, -2.58028895e-01, -2.56965309e-01,\n",
       "         -2.43106201e-01,  8.63252878e-02,  4.79466245e-02],\n",
       "        [ 2.37798601e-01,  1.25467703e-01,  1.45972475e-01,\n",
       "         -9.62270945e-02,  2.97658890e-02, -1.04368255e-02,\n",
       "          1.50898516e-01, -4.85103726e-02, -2.51247257e-01]], dtype=float32),\n",
       " array([ 0.22125685,  0.10520056,  0.73670846,  0.1254934 , -0.34632707,\n",
       "         1.1124146 , -0.48908716, -0.36186442, -0.62664044], dtype=float32)]"
      ]
     },
     "execution_count": 42,
     "metadata": {},
     "output_type": "execute_result"
    }
   ],
   "source": [
    "model.layers[0].get_weights()"
   ]
  },
  {
   "cell_type": "code",
   "execution_count": 43,
   "metadata": {},
   "outputs": [
    {
     "name": "stdout",
     "output_type": "stream",
     "text": [
      "63/63 [==============================] - 0s 1ms/step\n"
     ]
    },
    {
     "data": {
      "text/plain": [
       "array([[0.04182254],\n",
       "       [0.02594098],\n",
       "       [0.20335509],\n",
       "       ...,\n",
       "       [0.82660234],\n",
       "       [0.18265732],\n",
       "       [0.25514296]], dtype=float32)"
      ]
     },
     "execution_count": 43,
     "metadata": {},
     "output_type": "execute_result"
    }
   ],
   "source": [
    "y_log = model.predict(X_test)\n",
    "y_log"
   ]
  },
  {
   "cell_type": "code",
   "execution_count": 44,
   "metadata": {},
   "outputs": [],
   "source": [
    "y_Pred = np.where(y_log>0.5, 1, 0)\n"
   ]
  },
  {
   "cell_type": "code",
   "execution_count": 45,
   "metadata": {},
   "outputs": [
    {
     "data": {
      "text/plain": [
       "0.8565"
      ]
     },
     "execution_count": 45,
     "metadata": {},
     "output_type": "execute_result"
    }
   ],
   "source": [
    "from sklearn.metrics import accuracy_score\n",
    "accuracy_score(y_test, y_Pred)"
   ]
  },
  {
   "cell_type": "code",
   "execution_count": 48,
   "metadata": {},
   "outputs": [
    {
     "data": {
      "text/plain": [
       "[<matplotlib.lines.Line2D at 0x1eef9bb4520>]"
      ]
     },
     "execution_count": 48,
     "metadata": {},
     "output_type": "execute_result"
    },
    {
     "data": {
      "image/png": "[encoded data removed]",
      "text/plain": [
       "<Figure size 640x480 with 1 Axes>"
      ]
     },
     "metadata": {},
     "output_type": "display_data"
    }
   ],
   "source": [
    "plt.plot(history.history['loss'])\n",
    "plt.plot(history.history['val_loss'])"
   ]
  },
  {
   "cell_type": "code",
   "execution_count": 49,
   "metadata": {},
   "outputs": [
    {
     "data": {
      "text/plain": [
       "[<matplotlib.lines.Line2D at 0x1eef9c2eee0>]"
      ]
     },
     "execution_count": 49,
     "metadata": {},
     "output_type": "execute_result"
    },
    {
     "data": {
      "image/png": "[encoded data removed]",
      "text/plain": [
       "<Figure size 640x480 with 1 Axes>"
      ]
     },
     "metadata": {},
     "output_type": "display_data"
    }
   ],
   "source": [
    "plt.plot(history.history['accuracy'])\n",
    "plt.plot(history.history['val_accuracy'])"
   ]
  },
  {
   "cell_type": "code",
   "execution_count": null,
   "metadata": {},
   "outputs": [],
   "source": []
  }
 ],
 "metadata": {
  "kernelspec": {
   "display_name": "tensorflow",
   "language": "python",
   "name": "python3"
  },
  "language_info": {
   "codemirror_mode": {
    "name": "ipython",
    "version": 3
   },
   "file_extension": ".py",
   "mimetype": "text/x-python",
   "name": "python",
   "nbconvert_exporter": "python",
   "pygments_lexer": "ipython3",
   "version": "3.8.20"
  }
 },
 "nbformat": 4,
 "nbformat_minor": 2
}
